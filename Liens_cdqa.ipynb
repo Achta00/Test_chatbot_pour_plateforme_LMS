{
  "nbformat": 4,
  "nbformat_minor": 0,
  "metadata": {
    "colab": {
      "provenance": [],
      "authorship_tag": "ABX9TyOph5yMbOTmw12u+sJ+XzC1",
      "include_colab_link": true
    },
    "kernelspec": {
      "name": "python3",
      "display_name": "Python 3"
    },
    "language_info": {
      "name": "python"
    }
  },
  "cells": [
    {
      "cell_type": "markdown",
      "metadata": {
        "id": "view-in-github",
        "colab_type": "text"
      },
      "source": [
        "<a href=\"https://colab.research.google.com/github/Achta00/Chatbot/blob/main/Liens_cdqa_txt.ipynb\" target=\"_parent\"><img src=\"https://colab.research.google.com/assets/colab-badge.svg\" alt=\"Open In Colab\"/></a>"
      ]
    },
    {
      "cell_type": "markdown",
      "source": [
        "# **Closed Domain Question Answering : CDQA**\n",
        "\n"
      ],
      "metadata": {
        "id": "aoYbbyBmyDu4"
      }
    },
    {
      "cell_type": "markdown",
      "source": [
        "# Liste de liens sur Github\n",
        "\n",
        "- https://github.com/MarkusSagen/Surmize/blob/4e1bf336225bd8fbb45e5e328ab2a9ddc4d47928/tests/test_cdqa.py\n",
        "\n",
        "- https://github.com/shahik/flask_Bert-chatbot-/blob/18fe6fb554779a74c05e50d159b501211258cd04/bert_chatbot.py\n",
        "\n",
        "\n",
        "- https://github.com/pratyay12/Question-Answering-using-BERT/blob/702e831f03bfdbdff026efcf43078108fe5ee923/Question_Answering_System.ipynb\n",
        "\n",
        "- https://github.com/yuvraj123-verma/Smart-Question-Answering-System-on-Document/blob/main/Question%20Answering%20System%20Using%20CDQA%20on%20Multiple%20Pdf%20Files.ipynb\n",
        "\n"
      ],
      "metadata": {
        "id": "mLpa01oby1zI"
      }
    },
    {
      "cell_type": "code",
      "execution_count": null,
      "metadata": {
        "id": "r-NT1WO0yA7a"
      },
      "outputs": [],
      "source": []
    }
  ]
}