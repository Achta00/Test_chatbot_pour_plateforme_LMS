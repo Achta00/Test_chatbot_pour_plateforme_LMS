{
  "cells": [
    {
      "cell_type": "markdown",
      "metadata": {
        "id": "KEuZQayT_y5X"
      },
      "source": [
        " First steps with cdQA"
      ]
    },
    {
      "cell_type": "markdown",
      "metadata": {
        "id": "dvGqoEWW_y5c"
      },
      "source": [
        "This notebook shows how to use the `cdQA` pipeline to perform question answering on a custom dataset."
      ]
    },
    {
      "cell_type": "markdown",
      "metadata": {
        "id": "zCR-Lkjt_y5c"
      },
      "source": [
        "***Note:*** *If you are using colab, you will need to install `cdQA` by executing `!pip install cdqa` in a cell.*"
      ]
    },
    {
      "cell_type": "markdown",
      "source": [
        "Ce code traite une base de données dans un fichier CSV qui contient la date, le titre, le lien d'arcticle bnp accessible sur internet. \n",
        "Le package CDQA contient des packages permettant de convertir des fichiers PDF en texte interrogeable dans des blocs de données.\n",
        "Closed Domain Question Answering est une suite logicielle open source de bout en bout pour la réponse aux questions utilisant des méthodes IR classiques et l'apprentissage par transfert avec le modèle pré-formé BERT."
      ],
      "metadata": {
        "id": "EGS49URTwQZI"
      }
    },
    {
      "cell_type": "code",
      "source": [
        "!pwd"
      ],
      "metadata": {
        "id": "GszF7paiAD1M",
        "outputId": "7df00837-2c1b-4014-ccb5-8dbe4528fc73",
        "colab": {
          "base_uri": "https://localhost:8080/"
        }
      },
      "execution_count": 1,
      "outputs": [
        {
          "output_type": "stream",
          "name": "stdout",
          "text": [
            "/content\n"
          ]
        }
      ]
    },
    {
      "cell_type": "markdown",
      "source": [
        "Installer CDQA"
      ],
      "metadata": {
        "id": "GrbXDwNexTVY"
      }
    },
    {
      "cell_type": "code",
      "source": [
        "!git clone https://github.com/cdqa-suite/cdqa.git\n",
        "%cd /content/cdqa"
      ],
      "metadata": {
        "id": "APERNJ9EAQyh",
        "outputId": "d1cf9211-8093-4db8-ac41-7950bb45adcb",
        "colab": {
          "base_uri": "https://localhost:8080/"
        }
      },
      "execution_count": 2,
      "outputs": [
        {
          "output_type": "stream",
          "name": "stdout",
          "text": [
            "Cloning into 'cdqa'...\n",
            "remote: Enumerating objects: 1548, done.\u001b[K\n",
            "remote: Total 1548 (delta 0), reused 0 (delta 0), pack-reused 1548\u001b[K\n",
            "Receiving objects: 100% (1548/1548), 560.46 KiB | 2.23 MiB/s, done.\n",
            "Resolving deltas: 100% (955/955), done.\n",
            "/content/cdqa\n"
          ]
        }
      ]
    },
    {
      "cell_type": "code",
      "source": [
        "!pip install -e."
      ],
      "metadata": {
        "id": "jJZ7J3CKAbLh",
        "outputId": "88de2f10-2303-4cc2-c75e-d9412237d566",
        "colab": {
          "base_uri": "https://localhost:8080/"
        }
      },
      "execution_count": 3,
      "outputs": [
        {
          "output_type": "stream",
          "name": "stdout",
          "text": [
            "Looking in indexes: https://pypi.org/simple, https://us-python.pkg.dev/colab-wheels/public/simple/\n",
            "Obtaining file:///content/cdqa\n",
            "Collecting Flask==1.1.1\n",
            "  Downloading Flask-1.1.1-py2.py3-none-any.whl (94 kB)\n",
            "\u001b[K     |████████████████████████████████| 94 kB 2.1 MB/s \n",
            "\u001b[?25hCollecting flask_cors==3.0.8\n",
            "  Downloading Flask_Cors-3.0.8-py2.py3-none-any.whl (14 kB)\n",
            "Collecting joblib==0.13.2\n",
            "  Downloading joblib-0.13.2-py2.py3-none-any.whl (278 kB)\n",
            "\u001b[K     |████████████████████████████████| 278 kB 19.0 MB/s \n",
            "\u001b[?25hCollecting pandas==0.25.0\n",
            "  Downloading pandas-0.25.0-cp37-cp37m-manylinux1_x86_64.whl (10.4 MB)\n",
            "\u001b[K     |████████████████████████████████| 10.4 MB 35.1 MB/s \n",
            "\u001b[?25hCollecting prettytable==0.7.2\n",
            "  Downloading prettytable-0.7.2.zip (28 kB)\n",
            "Collecting transformers==2.1.1\n",
            "  Downloading transformers-2.1.1-py3-none-any.whl (311 kB)\n",
            "\u001b[K     |████████████████████████████████| 311 kB 43.0 MB/s \n",
            "\u001b[?25hCollecting scikit_learn==0.21.2\n",
            "  Downloading scikit_learn-0.21.2-cp37-cp37m-manylinux1_x86_64.whl (6.7 MB)\n",
            "\u001b[K     |████████████████████████████████| 6.7 MB 29.2 MB/s \n",
            "\u001b[?25hCollecting tika==1.19\n",
            "  Downloading tika-1.19.tar.gz (24 kB)\n",
            "Collecting torch==1.2.0\n",
            "  Downloading torch-1.2.0-cp37-cp37m-manylinux1_x86_64.whl (748.9 MB)\n",
            "\u001b[K     |████████████████████████████████| 748.9 MB 694 bytes/s \n",
            "\u001b[?25hCollecting markdown==3.1.1\n",
            "  Downloading Markdown-3.1.1-py2.py3-none-any.whl (87 kB)\n",
            "\u001b[K     |████████████████████████████████| 87 kB 8.9 MB/s \n",
            "\u001b[?25hCollecting tqdm==4.32.2\n",
            "  Downloading tqdm-4.32.2-py2.py3-none-any.whl (50 kB)\n",
            "\u001b[K     |████████████████████████████████| 50 kB 7.2 MB/s \n",
            "\u001b[?25hCollecting wget==3.2\n",
            "  Downloading wget-3.2.zip (10 kB)\n",
            "Requirement already satisfied: Werkzeug>=0.15 in /usr/local/lib/python3.7/dist-packages (from Flask==1.1.1->cdqa==1.3.9) (1.0.1)\n",
            "Requirement already satisfied: click>=5.1 in /usr/local/lib/python3.7/dist-packages (from Flask==1.1.1->cdqa==1.3.9) (7.1.2)\n",
            "Requirement already satisfied: Jinja2>=2.10.1 in /usr/local/lib/python3.7/dist-packages (from Flask==1.1.1->cdqa==1.3.9) (2.11.3)\n",
            "Requirement already satisfied: itsdangerous>=0.24 in /usr/local/lib/python3.7/dist-packages (from Flask==1.1.1->cdqa==1.3.9) (1.1.0)\n",
            "Requirement already satisfied: Six in /usr/local/lib/python3.7/dist-packages (from flask_cors==3.0.8->cdqa==1.3.9) (1.15.0)\n",
            "Requirement already satisfied: setuptools>=36 in /usr/local/lib/python3.7/dist-packages (from markdown==3.1.1->cdqa==1.3.9) (57.4.0)\n",
            "Requirement already satisfied: pytz>=2017.2 in /usr/local/lib/python3.7/dist-packages (from pandas==0.25.0->cdqa==1.3.9) (2022.6)\n",
            "Requirement already satisfied: numpy>=1.13.3 in /usr/local/lib/python3.7/dist-packages (from pandas==0.25.0->cdqa==1.3.9) (1.21.6)\n",
            "Requirement already satisfied: python-dateutil>=2.6.1 in /usr/local/lib/python3.7/dist-packages (from pandas==0.25.0->cdqa==1.3.9) (2.8.2)\n",
            "Requirement already satisfied: scipy>=0.17.0 in /usr/local/lib/python3.7/dist-packages (from scikit_learn==0.21.2->cdqa==1.3.9) (1.7.3)\n",
            "Requirement already satisfied: requests in /usr/local/lib/python3.7/dist-packages (from tika==1.19->cdqa==1.3.9) (2.23.0)\n",
            "Collecting boto3\n",
            "  Downloading boto3-1.26.11-py3-none-any.whl (132 kB)\n",
            "\u001b[K     |████████████████████████████████| 132 kB 56.6 MB/s \n",
            "\u001b[?25hRequirement already satisfied: regex in /usr/local/lib/python3.7/dist-packages (from transformers==2.1.1->cdqa==1.3.9) (2022.6.2)\n",
            "Collecting sentencepiece\n",
            "  Downloading sentencepiece-0.1.97-cp37-cp37m-manylinux_2_17_x86_64.manylinux2014_x86_64.whl (1.3 MB)\n",
            "\u001b[K     |████████████████████████████████| 1.3 MB 47.8 MB/s \n",
            "\u001b[?25hCollecting sacremoses\n",
            "  Downloading sacremoses-0.0.53.tar.gz (880 kB)\n",
            "\u001b[K     |████████████████████████████████| 880 kB 68.8 MB/s \n",
            "\u001b[?25hRequirement already satisfied: MarkupSafe>=0.23 in /usr/local/lib/python3.7/dist-packages (from Jinja2>=2.10.1->Flask==1.1.1->cdqa==1.3.9) (2.0.1)\n",
            "Collecting botocore<1.30.0,>=1.29.11\n",
            "  Downloading botocore-1.29.11-py3-none-any.whl (9.9 MB)\n",
            "\u001b[K     |████████████████████████████████| 9.9 MB 39.6 MB/s \n",
            "\u001b[?25hCollecting s3transfer<0.7.0,>=0.6.0\n",
            "  Downloading s3transfer-0.6.0-py3-none-any.whl (79 kB)\n",
            "\u001b[K     |████████████████████████████████| 79 kB 9.5 MB/s \n",
            "\u001b[?25hCollecting jmespath<2.0.0,>=0.7.1\n",
            "  Downloading jmespath-1.0.1-py3-none-any.whl (20 kB)\n",
            "Collecting urllib3<1.27,>=1.25.4\n",
            "  Downloading urllib3-1.26.12-py2.py3-none-any.whl (140 kB)\n",
            "\u001b[K     |████████████████████████████████| 140 kB 62.8 MB/s \n",
            "\u001b[?25h  Downloading urllib3-1.25.11-py2.py3-none-any.whl (127 kB)\n",
            "\u001b[K     |████████████████████████████████| 127 kB 57.2 MB/s \n",
            "\u001b[?25hRequirement already satisfied: certifi>=2017.4.17 in /usr/local/lib/python3.7/dist-packages (from requests->tika==1.19->cdqa==1.3.9) (2022.9.24)\n",
            "Requirement already satisfied: idna<3,>=2.5 in /usr/local/lib/python3.7/dist-packages (from requests->tika==1.19->cdqa==1.3.9) (2.10)\n",
            "Requirement already satisfied: chardet<4,>=3.0.2 in /usr/local/lib/python3.7/dist-packages (from requests->tika==1.19->cdqa==1.3.9) (3.0.4)\n",
            "Building wheels for collected packages: prettytable, tika, wget, sacremoses\n",
            "  Building wheel for prettytable (setup.py) ... \u001b[?25l\u001b[?25hdone\n",
            "  Created wheel for prettytable: filename=prettytable-0.7.2-py3-none-any.whl size=13713 sha256=584d50a145f5ff959e5f420185911342ed0037e699abed780d0b8b5832c053f5\n",
            "  Stored in directory: /root/.cache/pip/wheels/b2/7f/f6/f180315b584f00445045ff1699b550fa895d09471337ce21c6\n",
            "  Building wheel for tika (setup.py) ... \u001b[?25l\u001b[?25hdone\n",
            "  Created wheel for tika: filename=tika-1.19-py3-none-any.whl size=29317 sha256=d9ecb6bcca7a8b271d083eb27fb185f6039a743ed25bf354ead247cf9cf883a6\n",
            "  Stored in directory: /root/.cache/pip/wheels/11/59/5d/dcc580e12dccb97b5dcbb02a6ab9ea343dca9755b5ed1b5a2b\n",
            "  Building wheel for wget (setup.py) ... \u001b[?25l\u001b[?25hdone\n",
            "  Created wheel for wget: filename=wget-3.2-py3-none-any.whl size=9675 sha256=329b613ea298fa84bc0f2fbb8eceddca7337ec8debaa4239eb87bfb4fad8ab18\n",
            "  Stored in directory: /root/.cache/pip/wheels/a1/b6/7c/0e63e34eb06634181c63adacca38b79ff8f35c37e3c13e3c02\n",
            "  Building wheel for sacremoses (setup.py) ... \u001b[?25l\u001b[?25hdone\n",
            "  Created wheel for sacremoses: filename=sacremoses-0.0.53-py3-none-any.whl size=895259 sha256=6d7574dccaa93a0029cd4372385aa51a358379096b4aab1ef10c079f4e652f36\n",
            "  Stored in directory: /root/.cache/pip/wheels/87/39/dd/a83eeef36d0bf98e7a4d1933a4ad2d660295a40613079bafc9\n",
            "Successfully built prettytable tika wget sacremoses\n",
            "Installing collected packages: urllib3, jmespath, botocore, tqdm, s3transfer, joblib, sentencepiece, sacremoses, Flask, boto3, wget, transformers, torch, tika, scikit-learn, prettytable, pandas, markdown, flask-cors, cdqa\n",
            "  Attempting uninstall: urllib3\n",
            "    Found existing installation: urllib3 1.24.3\n",
            "    Uninstalling urllib3-1.24.3:\n",
            "      Successfully uninstalled urllib3-1.24.3\n",
            "  Attempting uninstall: tqdm\n",
            "    Found existing installation: tqdm 4.64.1\n",
            "    Uninstalling tqdm-4.64.1:\n",
            "      Successfully uninstalled tqdm-4.64.1\n",
            "  Attempting uninstall: joblib\n",
            "    Found existing installation: joblib 1.2.0\n",
            "    Uninstalling joblib-1.2.0:\n",
            "      Successfully uninstalled joblib-1.2.0\n",
            "  Attempting uninstall: Flask\n",
            "    Found existing installation: Flask 1.1.4\n",
            "    Uninstalling Flask-1.1.4:\n",
            "      Successfully uninstalled Flask-1.1.4\n",
            "  Attempting uninstall: torch\n",
            "    Found existing installation: torch 1.12.1+cu113\n",
            "    Uninstalling torch-1.12.1+cu113:\n",
            "      Successfully uninstalled torch-1.12.1+cu113\n",
            "  Attempting uninstall: scikit-learn\n",
            "    Found existing installation: scikit-learn 1.0.2\n",
            "    Uninstalling scikit-learn-1.0.2:\n",
            "      Successfully uninstalled scikit-learn-1.0.2\n",
            "  Attempting uninstall: prettytable\n",
            "    Found existing installation: prettytable 3.5.0\n",
            "    Uninstalling prettytable-3.5.0:\n",
            "      Successfully uninstalled prettytable-3.5.0\n",
            "  Attempting uninstall: pandas\n",
            "    Found existing installation: pandas 1.3.5\n",
            "    Uninstalling pandas-1.3.5:\n",
            "      Successfully uninstalled pandas-1.3.5\n",
            "  Attempting uninstall: markdown\n",
            "    Found existing installation: Markdown 3.4.1\n",
            "    Uninstalling Markdown-3.4.1:\n",
            "      Successfully uninstalled Markdown-3.4.1\n",
            "  Running setup.py develop for cdqa\n",
            "\u001b[31mERROR: pip's dependency resolver does not currently take into account all the packages that are installed. This behaviour is the source of the following dependency conflicts.\n",
            "yellowbrick 1.5 requires scikit-learn>=1.0.0, but you have scikit-learn 0.21.2 which is incompatible.\n",
            "xarray 0.20.2 requires pandas>=1.1, but you have pandas 0.25.0 which is incompatible.\n",
            "torchvision 0.13.1+cu113 requires torch==1.12.1, but you have torch 1.2.0 which is incompatible.\n",
            "torchtext 0.13.1 requires torch==1.12.1, but you have torch 1.2.0 which is incompatible.\n",
            "torchaudio 0.12.1+cu113 requires torch==1.12.1, but you have torch 1.2.0 which is incompatible.\n",
            "spacy 3.4.2 requires tqdm<5.0.0,>=4.38.0, but you have tqdm 4.32.2 which is incompatible.\n",
            "prophet 1.1.1 requires pandas>=1.0.4, but you have pandas 0.25.0 which is incompatible.\n",
            "prophet 1.1.1 requires tqdm>=4.36.1, but you have tqdm 4.32.2 which is incompatible.\n",
            "plotnine 0.8.0 requires pandas>=1.1.0, but you have pandas 0.25.0 which is incompatible.\n",
            "panel 0.12.1 requires tqdm>=4.48.0, but you have tqdm 4.32.2 which is incompatible.\n",
            "mizani 0.7.3 requires pandas>=1.1.0, but you have pandas 0.25.0 which is incompatible.\n",
            "librosa 0.8.1 requires joblib>=0.14, but you have joblib 0.13.2 which is incompatible.\n",
            "imbalanced-learn 0.8.1 requires scikit-learn>=0.24, but you have scikit-learn 0.21.2 which is incompatible.\n",
            "google-colab 1.0.0 requires pandas>=1.1.0, but you have pandas 0.25.0 which is incompatible.\n",
            "fastai 2.7.10 requires torch<1.14,>=1.7, but you have torch 1.2.0 which is incompatible.\u001b[0m\n",
            "Successfully installed Flask-1.1.1 boto3-1.26.11 botocore-1.29.11 cdqa-1.3.9 flask-cors-3.0.8 jmespath-1.0.1 joblib-0.13.2 markdown-3.1.1 pandas-0.25.0 prettytable-0.7.2 s3transfer-0.6.0 sacremoses-0.0.53 scikit-learn-0.21.2 sentencepiece-0.1.97 tika-1.19 torch-1.2.0 tqdm-4.32.2 transformers-2.1.1 urllib3-1.25.11 wget-3.2\n"
          ]
        }
      ]
    },
    {
      "cell_type": "markdown",
      "source": [
        "CDQA dispose également de QAPipeline dans lequel les documents seront intégrés\n"
      ],
      "metadata": {
        "id": "3Gou4H9R0KOO"
      }
    },
    {
      "cell_type": "code",
      "execution_count": 4,
      "metadata": {
        "ExecuteTime": {
          "end_time": "2019-07-20T13:32:09.138284Z",
          "start_time": "2019-07-20T13:32:01.868622Z"
        },
        "id": "GaNVbRIA_y5d",
        "outputId": "4302be2a-c1a3-4d2d-ef15-955063f6579e",
        "colab": {
          "base_uri": "https://localhost:8080/"
        }
      },
      "outputs": [
        {
          "output_type": "stream",
          "name": "stderr",
          "text": [
            "/usr/local/lib/python3.7/dist-packages/sklearn/feature_extraction/image.py:167: DeprecationWarning: `np.int` is a deprecated alias for the builtin `int`. To silence this warning, use `int` by itself. Doing this will not modify any behavior and is safe. When replacing `np.int`, you may wish to use e.g. `np.int64` or `np.int32` to specify the precision. If you wish to review your current use, check the release note link for additional information.\n",
            "Deprecated in NumPy 1.20; for more details and guidance: https://numpy.org/devdocs/release/1.20.0-notes.html#deprecations\n",
            "  dtype=np.int):\n",
            "/usr/local/lib/python3.7/dist-packages/tqdm/autonotebook/__init__.py:18: TqdmExperimentalWarning: Using `tqdm.autonotebook.tqdm` in notebook mode. Use `tqdm.tqdm` instead to force console mode (e.g. in jupyter console)\n",
            "  \" (e.g. in jupyter console)\", TqdmExperimentalWarning)\n"
          ]
        }
      ],
      "source": [
        "import os\n",
        "import pandas as pd\n",
        "from ast import literal_eval\n",
        "\n",
        "from cdqa.utils.filters import filter_paragraphs\n",
        "from cdqa.pipeline import QAPipeline"
      ]
    },
    {
      "cell_type": "markdown",
      "metadata": {
        "id": "EsIwHpds_y5f"
      },
      "source": [
        "### Download pre-trained reader model and example dataset"
      ]
    },
    {
      "cell_type": "code",
      "execution_count": 5,
      "metadata": {
        "ExecuteTime": {
          "end_time": "2019-07-20T13:33:36.002880Z",
          "start_time": "2019-07-20T13:32:10.618797Z"
        },
        "id": "jjuKj3bn_y5f",
        "outputId": "d3c62a5a-c5e4-4aec-b0c9-30b878e46704",
        "colab": {
          "base_uri": "https://localhost:8080/"
        }
      },
      "outputs": [
        {
          "output_type": "stream",
          "name": "stdout",
          "text": [
            "\n",
            "Downloading BNP data...\n",
            "\n",
            "Downloading trained model...\n"
          ]
        }
      ],
      "source": [
        "from cdqa.utils.download import download_model, download_bnpp_data\n",
        "\n",
        "download_bnpp_data(dir='./data/bnpp_newsroom_v1.1/')\n",
        "download_model(model='bert-squad_1.1', dir='./models')"
      ]
    },
    {
      "cell_type": "markdown",
      "metadata": {
        "id": "vUcmfLrL_y5g"
      },
      "source": [
        "### Visualize the dataset"
      ]
    },
    {
      "cell_type": "markdown",
      "source": [
        "Lire un fichier de valeurs séparées par des virgules (csv) dans DataFrame. Prend également en charge éventuellement l'itération ou la décomposition du fichier en morceaux."
      ],
      "metadata": {
        "id": "9v6xG-nsBwib"
      }
    },
    {
      "cell_type": "code",
      "execution_count": 6,
      "metadata": {
        "ExecuteTime": {
          "end_time": "2019-07-20T13:35:00.377971Z",
          "start_time": "2019-07-20T13:34:59.764491Z"
        },
        "id": "iRclzMV8_y5h",
        "outputId": "2430ae5c-77a1-44c7-a3a7-6ca5c0d4e2d8",
        "colab": {
          "base_uri": "https://localhost:8080/",
          "height": 206
        }
      },
      "outputs": [
        {
          "output_type": "execute_result",
          "data": {
            "text/plain": [
              "         date                                              title    category  \\\n",
              "0  13.05.2019  The banking jobs : Assistant Vice President – ...     Careers   \n",
              "1  13.05.2019  BNP Paribas at #VivaTech : discover the progra...  Innovation   \n",
              "2  13.05.2019  \"The bank with an IT budget of more than EUR6 ...       Group   \n",
              "3  10.05.2019  BNP Paribas at #VivaTech : discover the progra...  Innovation   \n",
              "4  10.05.2019  When Artificial Intelligence participates in r...     Careers   \n",
              "\n",
              "                                                link  \\\n",
              "0  https://group.bnpparibas/en/news/banking-jobs-...   \n",
              "1  https://group.bnpparibas/en/news/bnp-paribas-v...   \n",
              "2  https://group.bnpparibas/en/news/the-bank-budg...   \n",
              "3  https://group.bnpparibas/en/news/bnp-paribas-v...   \n",
              "4  https://group.bnpparibas/en/news/artificial-in...   \n",
              "\n",
              "                                            abstract  \\\n",
              "0  Within the Group’s Corporate and Institutional...   \n",
              "1  From Thursday 16 to Saturday 18 May 2019, join...   \n",
              "2  Interview with Jean-Laurent Bonnafé, Director ...   \n",
              "3  From Thursday 16 to Saturday 18 May 2019, join...   \n",
              "4  As the competition to attract talent intensifi...   \n",
              "\n",
              "                                          paragraphs  \n",
              "0  [I manage a team in charge of designing and im...  \n",
              "1  [With François Hollande, Chairman of French fo...  \n",
              "2  [We did the groundwork between 2012 and 2016, ...  \n",
              "3  [As part of the ‘United Tech of Europe’ theme,...  \n",
              "4  [Online recruitment is already the norm. Accor...  "
            ],
            "text/html": [
              "\n",
              "  <div id=\"df-bcc6fd5a-9595-48de-b284-02234d808e7c\">\n",
              "    <div class=\"colab-df-container\">\n",
              "      <div>\n",
              "<style scoped>\n",
              "    .dataframe tbody tr th:only-of-type {\n",
              "        vertical-align: middle;\n",
              "    }\n",
              "\n",
              "    .dataframe tbody tr th {\n",
              "        vertical-align: top;\n",
              "    }\n",
              "\n",
              "    .dataframe thead th {\n",
              "        text-align: right;\n",
              "    }\n",
              "</style>\n",
              "<table border=\"1\" class=\"dataframe\">\n",
              "  <thead>\n",
              "    <tr style=\"text-align: right;\">\n",
              "      <th></th>\n",
              "      <th>date</th>\n",
              "      <th>title</th>\n",
              "      <th>category</th>\n",
              "      <th>link</th>\n",
              "      <th>abstract</th>\n",
              "      <th>paragraphs</th>\n",
              "    </tr>\n",
              "  </thead>\n",
              "  <tbody>\n",
              "    <tr>\n",
              "      <th>0</th>\n",
              "      <td>13.05.2019</td>\n",
              "      <td>The banking jobs : Assistant Vice President – ...</td>\n",
              "      <td>Careers</td>\n",
              "      <td>https://group.bnpparibas/en/news/banking-jobs-...</td>\n",
              "      <td>Within the Group’s Corporate and Institutional...</td>\n",
              "      <td>[I manage a team in charge of designing and im...</td>\n",
              "    </tr>\n",
              "    <tr>\n",
              "      <th>1</th>\n",
              "      <td>13.05.2019</td>\n",
              "      <td>BNP Paribas at #VivaTech : discover the progra...</td>\n",
              "      <td>Innovation</td>\n",
              "      <td>https://group.bnpparibas/en/news/bnp-paribas-v...</td>\n",
              "      <td>From Thursday 16 to Saturday 18 May 2019, join...</td>\n",
              "      <td>[With François Hollande, Chairman of French fo...</td>\n",
              "    </tr>\n",
              "    <tr>\n",
              "      <th>2</th>\n",
              "      <td>13.05.2019</td>\n",
              "      <td>\"The bank with an IT budget of more than EUR6 ...</td>\n",
              "      <td>Group</td>\n",
              "      <td>https://group.bnpparibas/en/news/the-bank-budg...</td>\n",
              "      <td>Interview with Jean-Laurent Bonnafé, Director ...</td>\n",
              "      <td>[We did the groundwork between 2012 and 2016, ...</td>\n",
              "    </tr>\n",
              "    <tr>\n",
              "      <th>3</th>\n",
              "      <td>10.05.2019</td>\n",
              "      <td>BNP Paribas at #VivaTech : discover the progra...</td>\n",
              "      <td>Innovation</td>\n",
              "      <td>https://group.bnpparibas/en/news/bnp-paribas-v...</td>\n",
              "      <td>From Thursday 16 to Saturday 18 May 2019, join...</td>\n",
              "      <td>[As part of the ‘United Tech of Europe’ theme,...</td>\n",
              "    </tr>\n",
              "    <tr>\n",
              "      <th>4</th>\n",
              "      <td>10.05.2019</td>\n",
              "      <td>When Artificial Intelligence participates in r...</td>\n",
              "      <td>Careers</td>\n",
              "      <td>https://group.bnpparibas/en/news/artificial-in...</td>\n",
              "      <td>As the competition to attract talent intensifi...</td>\n",
              "      <td>[Online recruitment is already the norm. Accor...</td>\n",
              "    </tr>\n",
              "  </tbody>\n",
              "</table>\n",
              "</div>\n",
              "      <button class=\"colab-df-convert\" onclick=\"convertToInteractive('df-bcc6fd5a-9595-48de-b284-02234d808e7c')\"\n",
              "              title=\"Convert this dataframe to an interactive table.\"\n",
              "              style=\"display:none;\">\n",
              "        \n",
              "  <svg xmlns=\"http://www.w3.org/2000/svg\" height=\"24px\"viewBox=\"0 0 24 24\"\n",
              "       width=\"24px\">\n",
              "    <path d=\"M0 0h24v24H0V0z\" fill=\"none\"/>\n",
              "    <path d=\"M18.56 5.44l.94 2.06.94-2.06 2.06-.94-2.06-.94-.94-2.06-.94 2.06-2.06.94zm-11 1L8.5 8.5l.94-2.06 2.06-.94-2.06-.94L8.5 2.5l-.94 2.06-2.06.94zm10 10l.94 2.06.94-2.06 2.06-.94-2.06-.94-.94-2.06-.94 2.06-2.06.94z\"/><path d=\"M17.41 7.96l-1.37-1.37c-.4-.4-.92-.59-1.43-.59-.52 0-1.04.2-1.43.59L10.3 9.45l-7.72 7.72c-.78.78-.78 2.05 0 2.83L4 21.41c.39.39.9.59 1.41.59.51 0 1.02-.2 1.41-.59l7.78-7.78 2.81-2.81c.8-.78.8-2.07 0-2.86zM5.41 20L4 18.59l7.72-7.72 1.47 1.35L5.41 20z\"/>\n",
              "  </svg>\n",
              "      </button>\n",
              "      \n",
              "  <style>\n",
              "    .colab-df-container {\n",
              "      display:flex;\n",
              "      flex-wrap:wrap;\n",
              "      gap: 12px;\n",
              "    }\n",
              "\n",
              "    .colab-df-convert {\n",
              "      background-color: #E8F0FE;\n",
              "      border: none;\n",
              "      border-radius: 50%;\n",
              "      cursor: pointer;\n",
              "      display: none;\n",
              "      fill: #1967D2;\n",
              "      height: 32px;\n",
              "      padding: 0 0 0 0;\n",
              "      width: 32px;\n",
              "    }\n",
              "\n",
              "    .colab-df-convert:hover {\n",
              "      background-color: #E2EBFA;\n",
              "      box-shadow: 0px 1px 2px rgba(60, 64, 67, 0.3), 0px 1px 3px 1px rgba(60, 64, 67, 0.15);\n",
              "      fill: #174EA6;\n",
              "    }\n",
              "\n",
              "    [theme=dark] .colab-df-convert {\n",
              "      background-color: #3B4455;\n",
              "      fill: #D2E3FC;\n",
              "    }\n",
              "\n",
              "    [theme=dark] .colab-df-convert:hover {\n",
              "      background-color: #434B5C;\n",
              "      box-shadow: 0px 1px 3px 1px rgba(0, 0, 0, 0.15);\n",
              "      filter: drop-shadow(0px 1px 2px rgba(0, 0, 0, 0.3));\n",
              "      fill: #FFFFFF;\n",
              "    }\n",
              "  </style>\n",
              "\n",
              "      <script>\n",
              "        const buttonEl =\n",
              "          document.querySelector('#df-bcc6fd5a-9595-48de-b284-02234d808e7c button.colab-df-convert');\n",
              "        buttonEl.style.display =\n",
              "          google.colab.kernel.accessAllowed ? 'block' : 'none';\n",
              "\n",
              "        async function convertToInteractive(key) {\n",
              "          const element = document.querySelector('#df-bcc6fd5a-9595-48de-b284-02234d808e7c');\n",
              "          const dataTable =\n",
              "            await google.colab.kernel.invokeFunction('convertToInteractive',\n",
              "                                                     [key], {});\n",
              "          if (!dataTable) return;\n",
              "\n",
              "          const docLinkHtml = 'Like what you see? Visit the ' +\n",
              "            '<a target=\"_blank\" href=https://colab.research.google.com/notebooks/data_table.ipynb>data table notebook</a>'\n",
              "            + ' to learn more about interactive tables.';\n",
              "          element.innerHTML = '';\n",
              "          dataTable['output_type'] = 'display_data';\n",
              "          await google.colab.output.renderOutput(dataTable, element);\n",
              "          const docLink = document.createElement('div');\n",
              "          docLink.innerHTML = docLinkHtml;\n",
              "          element.appendChild(docLink);\n",
              "        }\n",
              "      </script>\n",
              "    </div>\n",
              "  </div>\n",
              "  "
            ]
          },
          "metadata": {},
          "execution_count": 6
        }
      ],
      "source": [
        "df = pd.read_csv('./data/bnpp_newsroom_v1.1/bnpp_newsroom-v1.1.csv', converters={'paragraphs': literal_eval})\n",
        "df = filter_paragraphs(df)\n",
        "df.head()"
      ]
    },
    {
      "cell_type": "markdown",
      "source": [
        "Afficher le premier lien "
      ],
      "metadata": {
        "id": "l1Q2xaSL1GkI"
      }
    },
    {
      "cell_type": "code",
      "source": [
        "df.iloc[1].link"
      ],
      "metadata": {
        "colab": {
          "base_uri": "https://localhost:8080/",
          "height": 35
        },
        "id": "uQ9dwLlWsrsl",
        "outputId": "5b078a13-d2af-4cb9-c3b4-0d4121a67785"
      },
      "execution_count": 7,
      "outputs": [
        {
          "output_type": "execute_result",
          "data": {
            "text/plain": [
              "'https://group.bnpparibas/en/news/bnp-paribas-vivatech-discover-program-friday-17-may'"
            ],
            "application/vnd.google.colaboratory.intrinsic+json": {
              "type": "string"
            }
          },
          "metadata": {},
          "execution_count": 7
        }
      ]
    },
    {
      "cell_type": "markdown",
      "metadata": {
        "id": "oiaXJOnP_y5i"
      },
      "source": [
        "### Instantiate the cdQA pipeline from a pre-trained reader model"
      ]
    },
    {
      "cell_type": "markdown",
      "source": [
        "Appelez le pipeline pour lire le modèle et ajuster le pipeline au cadre de données créé"
      ],
      "metadata": {
        "id": "Zu3JYYH21YUf"
      }
    },
    {
      "cell_type": "code",
      "execution_count": 8,
      "metadata": {
        "ExecuteTime": {
          "end_time": "2019-07-20T13:35:07.072516Z",
          "start_time": "2019-07-20T13:35:02.764545Z"
        },
        "id": "bnTzkXTS_y5i",
        "outputId": "b29dc193-ba89-4689-dad0-3293b40593d3",
        "colab": {
          "base_uri": "https://localhost:8080/"
        }
      },
      "outputs": [
        {
          "output_type": "stream",
          "name": "stderr",
          "text": [
            "100%|██████████| 231508/231508 [00:00<00:00, 1264686.52B/s]\n"
          ]
        },
        {
          "output_type": "execute_result",
          "data": {
            "text/plain": [
              "QAPipeline(reader=BertQA(adam_epsilon=1e-08, bert_model='bert-base-uncased',\n",
              "                         do_lower_case=True, fp16=False,\n",
              "                         gradient_accumulation_steps=1, learning_rate=5e-05,\n",
              "                         local_rank=-1, loss_scale=0, max_answer_length=30,\n",
              "                         n_best_size=20, no_cuda=False,\n",
              "                         null_score_diff_threshold=0.0, num_train_epochs=3.0,\n",
              "                         output_dir=None, predict_batch_size=8, seed=42,\n",
              "                         server_ip='', server_po...size=8,\n",
              "                         verbose_logging=False, version_2_with_negative=False,\n",
              "                         warmup_proportion=0.1, warmup_steps=0),\n",
              "           retrieve_by_doc=False,\n",
              "           retriever=BM25Retriever(b=0.75, floor=None, k1=2.0, lowercase=True,\n",
              "                                   max_df=0.85, min_df=2, ngram_range=(1, 2),\n",
              "                                   preprocessor=None, stop_words='english',\n",
              "                                   token_pattern='(?u)\\\\b\\\\w\\\\w+\\\\b',\n",
              "                                   tokenizer=None, top_n=20, verbose=False,\n",
              "                                   vocabulary=None))"
            ]
          },
          "metadata": {},
          "execution_count": 8
        }
      ],
      "source": [
        "cdqa_pipeline = QAPipeline(reader='./models/bert_qa.joblib')\n",
        "cdqa_pipeline.fit_retriever(df=df)"
      ]
    },
    {
      "cell_type": "markdown",
      "metadata": {
        "id": "Igmx0y_j_y5j"
      },
      "source": [
        "### Execute a query"
      ]
    },
    {
      "cell_type": "markdown",
      "source": [
        "Commencer à poser des questions et les réponses seront prédites"
      ],
      "metadata": {
        "id": "ygcWBez51rc4"
      }
    },
    {
      "cell_type": "code",
      "execution_count": 9,
      "metadata": {
        "ExecuteTime": {
          "end_time": "2019-07-20T13:35:37.973867Z",
          "start_time": "2019-07-20T13:35:22.104799Z"
        },
        "id": "W2MSwxHR_y5k"
      },
      "outputs": [],
      "source": [
        "query = 'Since when does the Excellence Program of BNP Paribas exist?'\n",
        "prediction = cdqa_pipeline.predict(query)"
      ]
    },
    {
      "cell_type": "markdown",
      "metadata": {
        "id": "XBRm0PU-_y5k"
      },
      "source": [
        "### Explore predictions"
      ]
    },
    {
      "cell_type": "markdown",
      "source": [
        "Convertir cette réponse en une mise en forme"
      ],
      "metadata": {
        "id": "pUId43wA10Nv"
      }
    },
    {
      "cell_type": "code",
      "execution_count": 10,
      "metadata": {
        "ExecuteTime": {
          "end_time": "2019-06-25T14:21:26.561003Z",
          "start_time": "2019-06-25T14:21:26.549540Z"
        },
        "id": "Gn8q_2Au_y5l",
        "outputId": "faf78d34-b2a5-4cd6-a8f7-f30be325078a",
        "colab": {
          "base_uri": "https://localhost:8080/"
        }
      },
      "outputs": [
        {
          "output_type": "stream",
          "name": "stdout",
          "text": [
            "query: Since when does the Excellence Program of BNP Paribas exist?\n",
            "answer: January 2016\n",
            "title: BNP Paribas’ commitment to universities and schools\n",
            "paragraph: Since January 2016, BNP Paribas has offered an Excellence Program targeting new Master’s level graduates (BAC+5) who show high potential. The aid program lasts 18 months and comprises three assignments of six months each. It serves as a strong career accelerator that enables participants to access high-level management positions at a faster rate. The program allows participants to discover the BNP Paribas Group and its various entities in France and abroad, build an internal and external network by working on different assignments and receive personalized assistance from a mentor and coaching firm at every step along the way.\n"
          ]
        }
      ],
      "source": [
        "print('query: {}'.format(query))\n",
        "print('answer: {}'.format(prediction[0]))\n",
        "print('title: {}'.format(prediction[1]))\n",
        "print('paragraph: {}'.format(prediction[2]))"
      ]
    },
    {
      "cell_type": "code",
      "source": [
        "print(prediction)"
      ],
      "metadata": {
        "id": "T5CIB1N3tzdo",
        "outputId": "e0c0bf6f-ac6d-468e-ab8d-a46290eba0ef",
        "colab": {
          "base_uri": "https://localhost:8080/"
        }
      },
      "execution_count": 11,
      "outputs": [
        {
          "output_type": "stream",
          "name": "stdout",
          "text": [
            "('January 2016', 'BNP Paribas’ commitment to universities and schools', 'Since January 2016, BNP Paribas has offered an Excellence Program targeting new Master’s level graduates (BAC+5) who show high potential. The aid program lasts 18 months and comprises three assignments of six months each. It serves as a strong career accelerator that enables participants to access high-level management positions at a faster rate. The program allows participants to discover the BNP Paribas Group and its various entities in France and abroad, build an internal and external network by working on different assignments and receive personalized assistance from a mentor and coaching firm at every step along the way.', 17.718706376326125)\n"
          ]
        }
      ]
    }
  ],
  "metadata": {
    "hide_input": false,
    "kernelspec": {
      "display_name": "Python 3",
      "language": "python",
      "name": "python3"
    },
    "language_info": {
      "codemirror_mode": {
        "name": "ipython",
        "version": 3
      },
      "file_extension": ".py",
      "mimetype": "text/x-python",
      "name": "python",
      "nbconvert_exporter": "python",
      "pygments_lexer": "ipython3",
      "version": "3.6.8"
    },
    "toc": {
      "base_numbering": 1,
      "nav_menu": {},
      "number_sections": true,
      "sideBar": true,
      "skip_h1_title": false,
      "title_cell": "Table of Contents",
      "title_sidebar": "Contents",
      "toc_cell": false,
      "toc_position": {},
      "toc_section_display": true,
      "toc_window_display": false
    },
    "varInspector": {
      "cols": {
        "lenName": 16,
        "lenType": 16,
        "lenVar": 40
      },
      "kernels_config": {
        "python": {
          "delete_cmd_postfix": "",
          "delete_cmd_prefix": "del ",
          "library": "var_list.py",
          "varRefreshCmd": "print(var_dic_list())"
        },
        "r": {
          "delete_cmd_postfix": ") ",
          "delete_cmd_prefix": "rm(",
          "library": "var_list.r",
          "varRefreshCmd": "cat(var_dic_list()) "
        }
      },
      "types_to_exclude": [
        "module",
        "function",
        "builtin_function_or_method",
        "instance",
        "_Feature"
      ],
      "window_display": false
    },
    "colab": {
      "provenance": []
    }
  },
  "nbformat": 4,
  "nbformat_minor": 0
}